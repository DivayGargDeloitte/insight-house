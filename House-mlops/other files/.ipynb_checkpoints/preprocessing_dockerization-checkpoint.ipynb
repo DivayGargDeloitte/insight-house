{
 "cells": [
  {
   "cell_type": "code",
   "execution_count": 2,
   "id": "172e22f9-6d95-4aad-a624-8eeed0f9197a",
   "metadata": {
    "tags": []
   },
   "outputs": [
    {
     "name": "stdout",
     "output_type": "stream",
     "text": [
      "Sending build context to Docker daemon  36.86kB\n",
      "Step 1/6 : FROM gcr.io/deeplearning-platform-release/base-cpu\n",
      " ---> 3370ebb8313d\n",
      "Step 2/6 : COPY requirements.txt /app/requirements.txt\n",
      " ---> Using cache\n",
      " ---> 2b49316a0785\n",
      "Step 3/6 : COPY preprocessing.py /app/preprocessing.py\n",
      " ---> Using cache\n",
      " ---> 9ada7fa54712\n",
      "Step 4/6 : WORKDIR /app\n",
      " ---> Using cache\n",
      " ---> 7da40f919b6b\n",
      "Step 5/6 : RUN pip install -r requirements.txt\n",
      " ---> Using cache\n",
      " ---> ba54655559b5\n",
      "Step 6/6 : CMD [\"python\", \"preprocessing.py\"]\n",
      " ---> Using cache\n",
      " ---> e3dba661c5a8\n",
      "Successfully built e3dba661c5a8\n",
      "Successfully tagged gcr.io/insight-tool-321814/docker_test_insight/preprocessing:v1\n"
     ]
    }
   ],
   "source": [
    "! docker build -f Dockerfile -t gcr.io/insight-tool-321814/docker_test_insight/preprocessing:v1 ./"
   ]
  },
  {
   "cell_type": "code",
   "execution_count": 3,
   "id": "e8848dbd-ce41-4e11-a863-0f29c2c35122",
   "metadata": {
    "jupyter": {
     "source_hidden": true
    },
    "tags": []
   },
   "outputs": [],
   "source": [
    "! docker run gcr.io/insight-tool-321814/docker_test_insight/preprocessing:v1"
   ]
  },
  {
   "cell_type": "code",
   "execution_count": 4,
   "id": "2ce2b8d2-adbe-407c-92e1-0bb3a1cb1dc7",
   "metadata": {
    "collapsed": true,
    "jupyter": {
     "outputs_hidden": true
    },
    "tags": []
   },
   "outputs": [
    {
     "name": "stdout",
     "output_type": "stream",
     "text": [
      "The push refers to repository [gcr.io/insight-tool-321814/docker_test_insight/preprocessing]\n",
      "\n",
      "\u001b[1Bfd894022: Preparing \n",
      "\u001b[1Bdadaab5f: Preparing \n",
      "\u001b[1B9e6e200a: Preparing \n",
      "\u001b[1Bc535f808: Preparing \n",
      "\u001b[1B8ee1b52d: Preparing \n",
      "\u001b[1B13676df8: Preparing \n",
      "\u001b[1Bd1719315: Preparing \n",
      "\u001b[1B04ce9981: Preparing \n",
      "\u001b[1Bee513cf4: Preparing \n",
      "\u001b[1B7850f48d: Preparing \n",
      "\u001b[1B7136f4ce: Preparing \n",
      "\u001b[1B6a05d5b9: Preparing \n",
      "\u001b[1B28d9d1c0: Preparing \n",
      "\u001b[1B1c364ced: Preparing \n",
      "\u001b[1Bfc1df3fb: Preparing \n",
      "\u001b[1B2edf4bb2: Preparing \n",
      "\u001b[1B8c107b08: Preparing \n",
      "\u001b[1B5712d612: Preparing \n",
      "\u001b[1B50bd6ed9: Preparing \n",
      "\u001b[1Bbf18a086: Preparing \n",
      "\u001b[1B156a4726: Preparing \n",
      "\u001b[3Bbf18a086: Preparing \n",
      "\u001b[1B36e2af4b: Preparing \n",
      "\u001b[1B8f7318f4: Preparing \n",
      "\u001b[2B8f7318f4: Layer already exists \u001b[20A\u001b[2K\u001b[14A\u001b[2K\u001b[8A\u001b[2K\u001b[5A\u001b[2Kv1: digest: sha256:1b259191fd3efcabb96b7cba162a3961d7437a9c4f18bdc5e5c10229de3aaade size: 5750\n"
     ]
    }
   ],
   "source": [
    "! docker push gcr.io/insight-tool-321814/docker_test_insight/preprocessing:v1"
   ]
  },
  {
   "cell_type": "code",
   "execution_count": 5,
   "id": "dea6fb99-e7f4-4555-8dcf-cec2c311e21e",
   "metadata": {},
   "outputs": [
    {
     "name": "stdout",
     "output_type": "stream",
     "text": [
      "v1: Pulling from insight-tool-321814/docker_test_insight/preprocessing\n",
      "Digest: sha256:1b259191fd3efcabb96b7cba162a3961d7437a9c4f18bdc5e5c10229de3aaade\n",
      "Status: Image is up to date for gcr.io/insight-tool-321814/docker_test_insight/preprocessing:v1\n",
      "gcr.io/insight-tool-321814/docker_test_insight/preprocessing:v1\n"
     ]
    }
   ],
   "source": [
    "! docker pull gcr.io/insight-tool-321814/docker_test_insight/preprocessing:v1"
   ]
  },
  {
   "cell_type": "code",
   "execution_count": 6,
   "id": "faf29310-4768-4b11-bcb2-e59e995af2f7",
   "metadata": {},
   "outputs": [
    {
     "name": "stdout",
     "output_type": "stream",
     "text": [
      "NAME\n",
      "gcr.io/insight-tool-321814/docker_test_insight/house_test\n",
      "gcr.io/insight-tool-321814/docker_test_insight/preprocessing\n"
     ]
    }
   ],
   "source": [
    "! gcloud container images list --repository=gcr.io/insight-tool-321814/docker_test_insight"
   ]
  },
  {
   "cell_type": "code",
   "execution_count": null,
   "id": "12cf3587-b224-4c14-a5f5-9d86a76138e2",
   "metadata": {},
   "outputs": [],
   "source": []
  }
 ],
 "metadata": {
  "environment": {
   "kernel": "python3",
   "name": "common-cpu.m99",
   "type": "gcloud",
   "uri": "gcr.io/deeplearning-platform-release/base-cpu:m99"
  },
  "kernelspec": {
   "display_name": "Python 3",
   "language": "python",
   "name": "python3"
  },
  "language_info": {
   "codemirror_mode": {
    "name": "ipython",
    "version": 3
   },
   "file_extension": ".py",
   "mimetype": "text/x-python",
   "name": "python",
   "nbconvert_exporter": "python",
   "pygments_lexer": "ipython3",
   "version": "3.7.12"
  }
 },
 "nbformat": 4,
 "nbformat_minor": 5
}
