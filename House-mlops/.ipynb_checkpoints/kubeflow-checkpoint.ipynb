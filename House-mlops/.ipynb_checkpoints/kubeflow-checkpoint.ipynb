{
 "cells": [
  {
   "cell_type": "code",
   "execution_count": 9,
   "id": "17d65392-ef31-45f5-8bf9-65902fc4bbc6",
   "metadata": {
    "collapsed": true,
    "jupyter": {
     "outputs_hidden": true
    },
    "tags": []
   },
   "outputs": [
    {
     "name": "stdout",
     "output_type": "stream",
     "text": [
      "Requirement already satisfied: kfp in /opt/conda/lib/python3.7/site-packages (1.8.16)\n",
      "Requirement already satisfied: PyYAML<6,>=5.3 in /opt/conda/lib/python3.7/site-packages (from kfp) (5.4.1)\n",
      "Requirement already satisfied: Deprecated<2,>=1.2.7 in /opt/conda/lib/python3.7/site-packages (from kfp) (1.2.13)\n",
      "Requirement already satisfied: uritemplate<4,>=3.0.1 in /opt/conda/lib/python3.7/site-packages (from kfp) (3.0.1)\n",
      "Requirement already satisfied: google-api-python-client<2,>=1.7.8 in /opt/conda/lib/python3.7/site-packages (from kfp) (1.12.11)\n",
      "Requirement already satisfied: kfp-pipeline-spec<0.2.0,>=0.1.16 in /opt/conda/lib/python3.7/site-packages (from kfp) (0.1.16)\n",
      "Requirement already satisfied: typing-extensions<5,>=3.7.4 in /opt/conda/lib/python3.7/site-packages (from kfp) (4.4.0)\n",
      "Requirement already satisfied: click<9,>=7.1.2 in /opt/conda/lib/python3.7/site-packages (from kfp) (8.1.3)\n",
      "Requirement already satisfied: tabulate<1,>=0.8.6 in /opt/conda/lib/python3.7/site-packages (from kfp) (0.9.0)\n",
      "Requirement already satisfied: kfp-server-api<2.0.0,>=1.1.2 in /opt/conda/lib/python3.7/site-packages (from kfp) (1.8.5)\n",
      "Requirement already satisfied: absl-py<2,>=0.9 in /opt/conda/lib/python3.7/site-packages (from kfp) (1.3.0)\n",
      "Requirement already satisfied: typer<1.0,>=0.3.2 in /opt/conda/lib/python3.7/site-packages (from kfp) (0.7.0)\n",
      "Requirement already satisfied: cloudpickle<3,>=2.0.0 in /opt/conda/lib/python3.7/site-packages (from kfp) (2.2.0)\n",
      "Requirement already satisfied: jsonschema<4,>=3.0.1 in /opt/conda/lib/python3.7/site-packages (from kfp) (3.2.0)\n",
      "Requirement already satisfied: google-api-core!=2.0.*,!=2.1.*,!=2.2.*,!=2.3.0,<3.0.0dev,>=1.31.5 in /opt/conda/lib/python3.7/site-packages (from kfp) (2.8.0)\n",
      "Requirement already satisfied: docstring-parser<1,>=0.7.3 in /opt/conda/lib/python3.7/site-packages (from kfp) (0.15)\n",
      "Requirement already satisfied: requests-toolbelt<1,>=0.8.0 in /opt/conda/lib/python3.7/site-packages (from kfp) (0.10.1)\n",
      "Requirement already satisfied: strip-hints<1,>=0.1.8 in /opt/conda/lib/python3.7/site-packages (from kfp) (0.1.10)\n",
      "Requirement already satisfied: kubernetes<19,>=8.0.0 in /opt/conda/lib/python3.7/site-packages (from kfp) (18.20.0)\n",
      "Requirement already satisfied: fire<1,>=0.3.1 in /opt/conda/lib/python3.7/site-packages (from kfp) (0.4.0)\n",
      "Requirement already satisfied: protobuf<4,>=3.13.0 in /opt/conda/lib/python3.7/site-packages (from kfp) (3.20.3)\n",
      "Requirement already satisfied: pydantic<2,>=1.8.2 in /opt/conda/lib/python3.7/site-packages (from kfp) (1.10.2)\n",
      "Requirement already satisfied: google-cloud-storage<3,>=1.20.0 in /opt/conda/lib/python3.7/site-packages (from kfp) (2.5.0)\n",
      "Requirement already satisfied: google-auth<3,>=1.6.1 in /opt/conda/lib/python3.7/site-packages (from kfp) (2.13.0)\n",
      "Requirement already satisfied: importlib-metadata in /opt/conda/lib/python3.7/site-packages (from click<9,>=7.1.2->kfp) (4.2.0)\n",
      "Requirement already satisfied: wrapt<2,>=1.10 in /opt/conda/lib/python3.7/site-packages (from Deprecated<2,>=1.2.7->kfp) (1.14.1)\n",
      "Requirement already satisfied: six in /opt/conda/lib/python3.7/site-packages (from fire<1,>=0.3.1->kfp) (1.16.0)\n",
      "Requirement already satisfied: termcolor in /opt/conda/lib/python3.7/site-packages (from fire<1,>=0.3.1->kfp) (2.1.0)\n",
      "Requirement already satisfied: requests<3.0.0dev,>=2.18.0 in /opt/conda/lib/python3.7/site-packages (from google-api-core!=2.0.*,!=2.1.*,!=2.2.*,!=2.3.0,<3.0.0dev,>=1.31.5->kfp) (2.28.1)\n",
      "Requirement already satisfied: googleapis-common-protos<2.0dev,>=1.52.0 in /opt/conda/lib/python3.7/site-packages (from google-api-core!=2.0.*,!=2.1.*,!=2.2.*,!=2.3.0,<3.0.0dev,>=1.31.5->kfp) (1.56.4)\n",
      "Requirement already satisfied: httplib2<1dev,>=0.15.0 in /opt/conda/lib/python3.7/site-packages (from google-api-python-client<2,>=1.7.8->kfp) (0.20.4)\n",
      "Requirement already satisfied: google-auth-httplib2>=0.0.3 in /opt/conda/lib/python3.7/site-packages (from google-api-python-client<2,>=1.7.8->kfp) (0.1.0)\n",
      "Requirement already satisfied: rsa<5,>=3.1.4 in /opt/conda/lib/python3.7/site-packages (from google-auth<3,>=1.6.1->kfp) (4.9)\n",
      "Requirement already satisfied: cachetools<6.0,>=2.0.0 in /opt/conda/lib/python3.7/site-packages (from google-auth<3,>=1.6.1->kfp) (5.2.0)\n",
      "Requirement already satisfied: pyasn1-modules>=0.2.1 in /opt/conda/lib/python3.7/site-packages (from google-auth<3,>=1.6.1->kfp) (0.2.7)\n",
      "Requirement already satisfied: google-cloud-core<3.0dev,>=2.3.0 in /opt/conda/lib/python3.7/site-packages (from google-cloud-storage<3,>=1.20.0->kfp) (2.3.2)\n",
      "Requirement already satisfied: google-resumable-media>=2.3.2 in /opt/conda/lib/python3.7/site-packages (from google-cloud-storage<3,>=1.20.0->kfp) (2.4.0)\n",
      "Requirement already satisfied: pyrsistent>=0.14.0 in /opt/conda/lib/python3.7/site-packages (from jsonschema<4,>=3.0.1->kfp) (0.18.1)\n",
      "Requirement already satisfied: attrs>=17.4.0 in /opt/conda/lib/python3.7/site-packages (from jsonschema<4,>=3.0.1->kfp) (22.1.0)\n",
      "Requirement already satisfied: setuptools in /opt/conda/lib/python3.7/site-packages (from jsonschema<4,>=3.0.1->kfp) (59.8.0)\n",
      "Requirement already satisfied: urllib3>=1.15 in /opt/conda/lib/python3.7/site-packages (from kfp-server-api<2.0.0,>=1.1.2->kfp) (1.26.11)\n",
      "Requirement already satisfied: python-dateutil in /opt/conda/lib/python3.7/site-packages (from kfp-server-api<2.0.0,>=1.1.2->kfp) (2.8.2)\n",
      "Requirement already satisfied: certifi in /opt/conda/lib/python3.7/site-packages (from kfp-server-api<2.0.0,>=1.1.2->kfp) (2022.9.24)\n",
      "Requirement already satisfied: requests-oauthlib in /opt/conda/lib/python3.7/site-packages (from kubernetes<19,>=8.0.0->kfp) (1.3.1)\n",
      "Requirement already satisfied: websocket-client!=0.40.0,!=0.41.*,!=0.42.*,>=0.32.0 in /opt/conda/lib/python3.7/site-packages (from kubernetes<19,>=8.0.0->kfp) (1.4.1)\n",
      "Requirement already satisfied: wheel in /opt/conda/lib/python3.7/site-packages (from strip-hints<1,>=0.1.8->kfp) (0.37.1)\n",
      "Requirement already satisfied: google-crc32c<2.0dev,>=1.0 in /opt/conda/lib/python3.7/site-packages (from google-resumable-media>=2.3.2->google-cloud-storage<3,>=1.20.0->kfp) (1.1.2)\n",
      "Requirement already satisfied: pyparsing!=3.0.0,!=3.0.1,!=3.0.2,!=3.0.3,<4,>=2.4.2 in /opt/conda/lib/python3.7/site-packages (from httplib2<1dev,>=0.15.0->google-api-python-client<2,>=1.7.8->kfp) (3.0.9)\n",
      "Requirement already satisfied: pyasn1<0.5.0,>=0.4.6 in /opt/conda/lib/python3.7/site-packages (from pyasn1-modules>=0.2.1->google-auth<3,>=1.6.1->kfp) (0.4.8)\n",
      "Requirement already satisfied: charset-normalizer<3,>=2 in /opt/conda/lib/python3.7/site-packages (from requests<3.0.0dev,>=2.18.0->google-api-core!=2.0.*,!=2.1.*,!=2.2.*,!=2.3.0,<3.0.0dev,>=1.31.5->kfp) (2.1.1)\n",
      "Requirement already satisfied: idna<4,>=2.5 in /opt/conda/lib/python3.7/site-packages (from requests<3.0.0dev,>=2.18.0->google-api-core!=2.0.*,!=2.1.*,!=2.2.*,!=2.3.0,<3.0.0dev,>=1.31.5->kfp) (3.4)\n",
      "Requirement already satisfied: zipp>=0.5 in /opt/conda/lib/python3.7/site-packages (from importlib-metadata->click<9,>=7.1.2->kfp) (3.10.0)\n",
      "Requirement already satisfied: oauthlib>=3.0.0 in /opt/conda/lib/python3.7/site-packages (from requests-oauthlib->kubernetes<19,>=8.0.0->kfp) (3.2.2)\n",
      "Requirement already satisfied: cffi>=1.0.0 in /opt/conda/lib/python3.7/site-packages (from google-crc32c<2.0dev,>=1.0->google-resumable-media>=2.3.2->google-cloud-storage<3,>=1.20.0->kfp) (1.15.1)\n",
      "Requirement already satisfied: pycparser in /opt/conda/lib/python3.7/site-packages (from cffi>=1.0.0->google-crc32c<2.0dev,>=1.0->google-resumable-media>=2.3.2->google-cloud-storage<3,>=1.20.0->kfp) (2.21)\n"
     ]
    }
   ],
   "source": [
    "! pip install --upgrade kfp --user"
   ]
  },
  {
   "cell_type": "code",
   "execution_count": 1,
   "id": "e2f676fd-0299-4fe2-8cd9-d26670bf425b",
   "metadata": {},
   "outputs": [],
   "source": [
    "import os\n",
    "os.chdir(\"docker_file_folder\")"
   ]
  },
  {
   "cell_type": "code",
   "execution_count": 2,
   "id": "76c83ae1-301e-485e-a7c2-f589e72ac189",
   "metadata": {
    "collapsed": true,
    "jupyter": {
     "outputs_hidden": true
    },
    "tags": []
   },
   "outputs": [
    {
     "name": "stdout",
     "output_type": "stream",
     "text": [
      "Sending build context to Docker daemon  23.04kB\n",
      "Step 1/7 : FROM gcr.io/deeplearning-platform-release/base-cpu\n",
      " ---> 3370ebb8313d\n",
      "Step 2/7 : ARG DEBIAN_FRONTEND=noninteractive\n",
      " ---> Using cache\n",
      " ---> 73772dd5936e\n",
      "Step 3/7 : RUN apt-get update &&     apt-get install -y curl gnupg &&     echo \"deb [signed-by=/usr/share/keyrings/cloud.google.gpg] http://packages.cloud.google.com/apt cloud-sdk main\" | tee -a /etc/apt/sources.list.d/google-cloud-sdk.list &&     curl https://packages.cloud.google.com/apt/doc/apt-key.gpg | apt-key --keyring /usr/share/keyrings/cloud.google.gpg  add - &&     apt-get update -y &&     apt-get install google-cloud-sdk -y\n",
      " ---> Using cache\n",
      " ---> 6dfb70634bc3\n",
      "Step 4/7 : COPY requirements.txt /app/requirements.txt\n",
      " ---> Using cache\n",
      " ---> 917d2fa212db\n",
      "Step 5/7 : COPY . /app/.\n",
      " ---> 0cf507b81866\n",
      "Step 6/7 : WORKDIR /app\n",
      " ---> Running in 3fb78942f794\n",
      "Removing intermediate container 3fb78942f794\n",
      " ---> b222db308ad9\n",
      "Step 7/7 : RUN pip install -r requirements.txt\n",
      " ---> Running in 36724649726a\n",
      "Requirement already satisfied: numpy in /opt/conda/lib/python3.7/site-packages (from -r requirements.txt (line 1)) (1.21.6)\n",
      "Requirement already satisfied: pandas in /opt/conda/lib/python3.7/site-packages (from -r requirements.txt (line 2)) (1.3.5)\n",
      "Requirement already satisfied: scikit-learn in /opt/conda/lib/python3.7/site-packages (from -r requirements.txt (line 3)) (1.0.2)\n",
      "Collecting google-cloud\n",
      "  Downloading google_cloud-0.34.0-py2.py3-none-any.whl (1.8 kB)\n",
      "Requirement already satisfied: python-dateutil>=2.7.3 in /opt/conda/lib/python3.7/site-packages (from pandas->-r requirements.txt (line 2)) (2.8.2)\n",
      "Requirement already satisfied: pytz>=2017.3 in /opt/conda/lib/python3.7/site-packages (from pandas->-r requirements.txt (line 2)) (2022.5)\n",
      "Requirement already satisfied: scipy>=1.1.0 in /opt/conda/lib/python3.7/site-packages (from scikit-learn->-r requirements.txt (line 3)) (1.7.3)\n",
      "Requirement already satisfied: joblib>=0.11 in /opt/conda/lib/python3.7/site-packages (from scikit-learn->-r requirements.txt (line 3)) (1.2.0)\n",
      "Requirement already satisfied: threadpoolctl>=2.0.0 in /opt/conda/lib/python3.7/site-packages (from scikit-learn->-r requirements.txt (line 3)) (3.1.0)\n",
      "Requirement already satisfied: six>=1.5 in /opt/conda/lib/python3.7/site-packages (from python-dateutil>=2.7.3->pandas->-r requirements.txt (line 2)) (1.16.0)\n",
      "Installing collected packages: google-cloud\n",
      "Successfully installed google-cloud-0.34.0\n",
      "\u001b[91mWARNING: Running pip as the 'root' user can result in broken permissions and conflicting behaviour with the system package manager. It is recommended to use a virtual environment instead: https://pip.pypa.io/warnings/venv\n",
      "\u001b[0mRemoving intermediate container 36724649726a\n",
      " ---> e13feb4a94e2\n",
      "Successfully built e13feb4a94e2\n",
      "Successfully tagged gcr.io/insight-tool-321814/docker_test_insight/common_container:v2\n"
     ]
    }
   ],
   "source": [
    "! docker build -f Dockerfile -t gcr.io/insight-tool-321814/docker_test_insight/common_container:v2 ./"
   ]
  },
  {
   "cell_type": "code",
   "execution_count": 3,
   "id": "f9b1b828-943f-4f9f-be7e-241c5f8dcede",
   "metadata": {
    "collapsed": true,
    "jupyter": {
     "outputs_hidden": true
    },
    "tags": []
   },
   "outputs": [
    {
     "name": "stdout",
     "output_type": "stream",
     "text": [
      "The push refers to repository [gcr.io/insight-tool-321814/docker_test_insight/common_container]\n",
      "\n",
      "\u001b[1B00b56f1d: Preparing \n",
      "\u001b[1Bff04cb4c: Preparing \n",
      "\u001b[1B387446f3: Preparing \n",
      "\u001b[1Be48c4d59: Preparing \n",
      "\u001b[1Bc535f808: Preparing \n",
      "\u001b[1B8ee1b52d: Preparing \n",
      "\u001b[1B13676df8: Preparing \n",
      "\u001b[1Bd1719315: Preparing \n",
      "\u001b[1B04ce9981: Preparing \n",
      "\u001b[1Bee513cf4: Preparing \n",
      "\u001b[1B7850f48d: Preparing \n",
      "\u001b[1B7136f4ce: Preparing \n",
      "\u001b[1B6a05d5b9: Preparing \n",
      "\u001b[1B28d9d1c0: Preparing \n",
      "\u001b[1B1c364ced: Preparing \n",
      "\u001b[1Bfc1df3fb: Preparing \n",
      "\u001b[1B2edf4bb2: Preparing \n",
      "\u001b[1B8c107b08: Preparing \n",
      "\u001b[1B5712d612: Preparing \n",
      "\u001b[1B50bd6ed9: Preparing \n",
      "\u001b[1Bbf18a086: Preparing \n",
      "\u001b[1B156a4726: Preparing \n",
      "\u001b[3Bbf18a086: Preparing \n",
      "\u001b[1B36e2af4b: Preparing \n",
      "\u001b[1B8f7318f4: Preparing \n",
      "\u001b[25Bf04cb4c: Pushed lready exists 2kB\u001b[25A\u001b[2K\u001b[21A\u001b[2K\u001b[18A\u001b[2K\u001b[15A\u001b[2K\u001b[11A\u001b[2K\u001b[7A\u001b[2K\u001b[4A\u001b[2K\u001b[26A\u001b[2K\u001b[25A\u001b[2Kv2: digest: sha256:1c1d871e795bd87aa7aeba9df5cc87647bacdcf586d143ac1f2a85dc00713a31 size: 5964\n"
     ]
    }
   ],
   "source": [
    "! docker push gcr.io/insight-tool-321814/docker_test_insight/common_container:v2"
   ]
  },
  {
   "cell_type": "code",
   "execution_count": 4,
   "id": "a5dc736d-62e9-4180-b7d2-475abc1f9440",
   "metadata": {
    "collapsed": true,
    "jupyter": {
     "outputs_hidden": true
    },
    "tags": []
   },
   "outputs": [
    {
     "name": "stdout",
     "output_type": "stream",
     "text": [
      "NAME\n",
      "gcr.io/insight-tool-321814/docker_test_insight/common_container\n",
      "gcr.io/insight-tool-321814/docker_test_insight/house_test\n",
      "gcr.io/insight-tool-321814/docker_test_insight/prediction\n",
      "gcr.io/insight-tool-321814/docker_test_insight/prediction_cloudbuild_test_2\n",
      "gcr.io/insight-tool-321814/docker_test_insight/prediction_cloudbuild_test_4\n",
      "gcr.io/insight-tool-321814/docker_test_insight/preprocessing\n",
      "gcr.io/insight-tool-321814/docker_test_insight/preprocessing_cloudbuild_test\n",
      "gcr.io/insight-tool-321814/docker_test_insight/preprocessing_cloudbuild_test_2\n",
      "gcr.io/insight-tool-321814/docker_test_insight/preprocessing_cloudbuild_test_4\n",
      "gcr.io/insight-tool-321814/docker_test_insight/training\n",
      "gcr.io/insight-tool-321814/docker_test_insight/training_cloudbuild_test\n",
      "gcr.io/insight-tool-321814/docker_test_insight/training_cloudbuild_test_2\n",
      "gcr.io/insight-tool-321814/docker_test_insight/training_cloudbuild_test_4\n"
     ]
    }
   ],
   "source": [
    "! gcloud container images list --repository=gcr.io/insight-tool-321814/docker_test_insight"
   ]
  },
  {
   "cell_type": "code",
   "execution_count": 1,
   "id": "c06e3ac1-bb86-47db-b6ae-1d588529624b",
   "metadata": {},
   "outputs": [
    {
     "data": {
      "text/plain": [
       "'/home/jupyter/House-mlops'"
      ]
     },
     "execution_count": 1,
     "metadata": {},
     "output_type": "execute_result"
    }
   ],
   "source": [
    "import os \n",
    "os.getcwd()"
   ]
  },
  {
   "cell_type": "code",
   "execution_count": 2,
   "id": "75bb04b0-3e62-4940-9dba-02de2ac6c215",
   "metadata": {},
   "outputs": [
    {
     "name": "stdout",
     "output_type": "stream",
     "text": [
      "Overwriting config.py\n"
     ]
    }
   ],
   "source": [
    "%%writefile config.py\n",
    "gs_bucket_name =\"lifesight-data-table\"\n",
    "Bucket_uri = \"gs://lifesight-data-table/MLops\"\n",
    "version = 1\n",
    "store_artifacts = Bucket_uri+\"/\"+str(version)\n",
    "data_path = Bucket_uri+\"/\"+\"data/house_data.csv\"\n",
    "processed_train = Bucket_uri+\"/\"+\"train/train_data.csv\"\n",
    "processed_test = Bucket_uri+\"/\"+\"test/test_data.csv\"\n",
    "model_path = Bucket_uri+\"/model/\"\n",
    "predicted_data = Bucket_uri+\"/\"+\"prediction_result/predicted_data.csv\""
   ]
  },
  {
   "cell_type": "code",
   "execution_count": 2,
   "id": "a5b52d67-8ec7-455a-be01-8842156297ad",
   "metadata": {},
   "outputs": [],
   "source": [
    "import kfp\n",
    "import kfp.components as comp\n",
    "from kubernetes.client.models import V1EnvVar"
   ]
  },
  {
   "cell_type": "code",
   "execution_count": 3,
   "id": "f9965708-7035-4af1-b417-16796b9b6560",
   "metadata": {},
   "outputs": [],
   "source": [
    "@kfp.dsl.component\n",
    "def preprocessing():\n",
    "    preprocessing_component = kfp.dsl.ContainerOp(\n",
    "        name=\"Data_Processing\",\n",
    "        image=\"gcr.io/insight-tool-321814/docker_test_insight/common_container:v2\",\n",
    "        command = ['python','preprocessing.py'],\n",
    "    )\n",
    "    return(preprocessing_component)    "
   ]
  },
  {
   "cell_type": "code",
   "execution_count": 4,
   "id": "f08c14dd-419b-4343-b4c0-130e6c079ba7",
   "metadata": {},
   "outputs": [],
   "source": [
    "@kfp.dsl.component\n",
    "def training():\n",
    "    training_component = kfp.dsl.ContainerOp(\n",
    "        name=\"model_training\",\n",
    "        image=\"gcr.io/insight-tool-321814/docker_test_insight/common_container:v2\",\n",
    "        command = ['python','training.py']\n",
    "    )\n",
    "    return(training_component)"
   ]
  },
  {
   "cell_type": "code",
   "execution_count": 11,
   "id": "e838e301-edaa-4b96-9f39-ec1a787093e7",
   "metadata": {},
   "outputs": [],
   "source": [
    "@kfp.dsl.component\n",
    "def prediction_house():\n",
    "    prediction_house_component = kfp.dsl.ContainerOp(\n",
    "        name=\"model_prediction\",\n",
    "        image=\"gcr.io/insight-tool-321814/docker_test_insight/common_container\",\n",
    "        command = ['python','prediction.py']\n",
    "    )\n",
    "    return(prediction_house)"
   ]
  },
  {
   "cell_type": "code",
   "execution_count": 5,
   "id": "8da61d2e-a855-46af-a61e-f567eb0b32f3",
   "metadata": {},
   "outputs": [],
   "source": [
    "@kfp.dsl.pipeline(\n",
    "    name = \"modeling house data\",\n",
    "    description = \"modeling house data\"\n",
    ")\n",
    "def house():\n",
    "    process_data = preprocessing()\n",
    "    process_data.execution_options.caching_strategy.max_cache_staleness = 'P0D'\n",
    "    training_data = training().after(process_data)\n",
    "    training_data.execution_options.caching_strategy.max_cache_staleness = 'P0D'\n",
    "    #prediction_data = prediction_house()\n",
    "    #prediction_data.execution_options.caching_strategy.max_cache_staleness = 'P0D'\n",
    "    "
   ]
  },
  {
   "cell_type": "code",
   "execution_count": 6,
   "id": "675fb298-34cd-4562-8cba-24854e5b5c3a",
   "metadata": {},
   "outputs": [],
   "source": [
    "debug = False\n",
    "if debug :\n",
    "    prediction_pipeline_output = house()\n",
    "    print(prediction_component_output)"
   ]
  },
  {
   "cell_type": "code",
   "execution_count": 6,
   "id": "15ab025d-d2ff-47e1-be79-88406fd9d004",
   "metadata": {
    "tags": []
   },
   "outputs": [
    {
     "name": "stderr",
     "output_type": "stream",
     "text": [
      "/opt/conda/lib/python3.7/site-packages/kfp/dsl/_container_op.py:1264: FutureWarning: Please create reusable components instead of constructing ContainerOp instances directly. Reusable components are shareable, portable and have compatibility and support guarantees. Please see the documentation: https://www.kubeflow.org/docs/pipelines/sdk/component-development/#writing-your-component-definition-file The components can be created manually (or, in case of python, using kfp.components.create_component_from_func or func_to_container_op) and then loaded using kfp.components.load_component_from_file, load_component_from_uri or load_component_from_text: https://kubeflow-pipelines.readthedocs.io/en/stable/source/kfp.components.html#kfp.components.load_component_from_file\n",
      "  category=FutureWarning,\n"
     ]
    }
   ],
   "source": [
    "kfp.compiler.Compiler().compile(house, 'house-kubeflow-folder.zip')"
   ]
  },
  {
   "cell_type": "code",
   "execution_count": 7,
   "id": "12f53184-11ca-4beb-b078-b8187b0ea58b",
   "metadata": {},
   "outputs": [
    {
     "name": "stderr",
     "output_type": "stream",
     "text": [
      "/opt/conda/lib/python3.7/site-packages/kfp/_client.py:224: UserWarning: The host 906232bd54f1fcb-dot-us-central1.pipelines.googleusercontent.com does not contain the \"http\" or \"https\" protocol. Defaults to \"https\".\n",
      "  ' Defaults to \"https\".' % host)\n"
     ]
    }
   ],
   "source": [
    "client = kfp.Client(\"906232bd54f1fcb-dot-us-central1.pipelines.googleusercontent.com\")"
   ]
  },
  {
   "cell_type": "code",
   "execution_count": 8,
   "id": "3796ca04-62d5-4506-8825-80b1a343320f",
   "metadata": {},
   "outputs": [
    {
     "data": {
      "text/html": [
       "<a href=\"http://906232bd54f1fcb-dot-us-central1.pipelines.googleusercontent.com/#/experiments/details/7fb6a633-b2c6-4088-b157-de77fe4ef669\" target=\"_blank\" >Experiment details</a>."
      ],
      "text/plain": [
       "<IPython.core.display.HTML object>"
      ]
     },
     "metadata": {},
     "output_type": "display_data"
    }
   ],
   "source": [
    "EXPERIMENT_NAME = 'house-2'\n",
    "experiment = client.create_experiment(name=EXPERIMENT_NAME)"
   ]
  },
  {
   "cell_type": "code",
   "execution_count": 12,
   "id": "875463e0-e476-44c7-a8d0-bc140d1a3b8d",
   "metadata": {},
   "outputs": [
    {
     "data": {
      "text/html": [
       "<a href=\"http://906232bd54f1fcb-dot-us-central1.pipelines.googleusercontent.com/#/runs/details/6828fe18-7fc0-48fa-840b-0ef76814fb9d\" target=\"_blank\" >Run details</a>."
      ],
      "text/plain": [
       "<IPython.core.display.HTML object>"
      ]
     },
     "metadata": {},
     "output_type": "display_data"
    }
   ],
   "source": [
    "run = client.run_pipeline(experiment.id,'house-run-2','house-kubeflow-folder.zip')"
   ]
  },
  {
   "cell_type": "code",
   "execution_count": null,
   "id": "53e2625d-22b7-4d44-9286-f51f80bbc62f",
   "metadata": {},
   "outputs": [],
   "source": []
  },
  {
   "cell_type": "code",
   "execution_count": 12,
   "id": "3ff3d60a-e27f-4a67-97a7-f4798ad5ed7b",
   "metadata": {},
   "outputs": [],
   "source": [
    "@kfp.dsl.pipeline(\n",
    "    name = \"modeling house data\",\n",
    "    description = \"modeling house data\"\n",
    ")\n",
    "def house():\n",
    "    process_data = preprocessing()\n",
    "    process_data.execution_options.caching_strategy.max_cache_staleness = 'P0D'\n",
    "    training_data = training()\n",
    "    training_data.execution_options.caching_strategy.max_cache_staleness = 'P0D'\n",
    "    prediction_data = prediction()\n",
    "    prediction_data.execution_options.caching_strategy.max_cache_staleness = 'P0D'"
   ]
  },
  {
   "cell_type": "code",
   "execution_count": null,
   "id": "0f6f87fa-61ea-4cf5-a176-fb675a981407",
   "metadata": {},
   "outputs": [],
   "source": []
  },
  {
   "cell_type": "code",
   "execution_count": null,
   "id": "b3c89bcd-4344-461b-8072-35df24cf137f",
   "metadata": {},
   "outputs": [],
   "source": [
    "def preprocessing():\n",
    "    preprocessing_component = kfp.dsl.ContainerOp(\n",
    "        name=\"Data_Processing\",\n",
    "        image=\"gcr.io/insight-tool-321814/docker_test_insight/common_container\",\n",
    "        command = ['python','preprocessing.py']\n",
    "    )\n",
    "    return(preprocessing_component)"
   ]
  },
  {
   "cell_type": "code",
   "execution_count": null,
   "id": "0fc5d64e-1d2f-4a1a-8760-6d35ec3fe1fd",
   "metadata": {},
   "outputs": [],
   "source": [
    "def training():\n",
    "    training_component = kfp.dsl.ContainerOp(\n",
    "        name=\"model_training\",\n",
    "        image=\"gcr.io/insight-tool-321814/docker_test_insight/common_container\",\n",
    "        command = ['python','training.py']\n",
    "        #file_outputs = {'mlpipeline-ui-metadata':'/mlpipeline-ui-metadata.json','mlpipeline-metrics':'/mlpipeline-metrics.json'}\n",
    "    )\n",
    "    return(training_component)"
   ]
  },
  {
   "cell_type": "code",
   "execution_count": null,
   "id": "111b9d50-832b-4ffd-850a-cabb54a2e726",
   "metadata": {},
   "outputs": [],
   "source": [
    "def prediction():\n",
    "    prediction_component = kfp.dsl.ContainerOp(\n",
    "        name=\"model_prediction\",\n",
    "        image=\"gcr.io/insight-tool-321814/docker_test_insight/common_container\",\n",
    "        command = ['python','prediction.py']\n",
    "    )\n",
    "    return(training_component)"
   ]
  }
 ],
 "metadata": {
  "environment": {
   "kernel": "python3",
   "name": "common-cpu.m99",
   "type": "gcloud",
   "uri": "gcr.io/deeplearning-platform-release/base-cpu:m99"
  },
  "kernelspec": {
   "display_name": "Python 3",
   "language": "python",
   "name": "python3"
  },
  "language_info": {
   "codemirror_mode": {
    "name": "ipython",
    "version": 3
   },
   "file_extension": ".py",
   "mimetype": "text/x-python",
   "name": "python",
   "nbconvert_exporter": "python",
   "pygments_lexer": "ipython3",
   "version": "3.7.12"
  }
 },
 "nbformat": 4,
 "nbformat_minor": 5
}
