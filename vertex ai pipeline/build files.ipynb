{
 "cells": [
  {
   "cell_type": "code",
   "execution_count": 3,
   "id": "6abfd363-db78-498e-b5f2-f46651d3f12e",
   "metadata": {
    "collapsed": true,
    "jupyter": {
     "outputs_hidden": true
    },
    "tags": []
   },
   "outputs": [
    {
     "name": "stdout",
     "output_type": "stream",
     "text": [
      "Sending build context to Docker daemon  20.48kB\n",
      "Step 1/6 : FROM gcr.io/deeplearning-platform-release/base-cpu\n",
      " ---> 3370ebb8313d\n",
      "Step 2/6 : COPY requirements.txt /app/requirements.txt\n",
      " ---> Using cache\n",
      " ---> 8deacb677a81\n",
      "Step 3/6 : COPY . /app/.\n",
      " ---> 93fe24d41e6a\n",
      "Step 4/6 : WORKDIR /app\n",
      " ---> Running in 6581a796bd99\n",
      "Removing intermediate container 6581a796bd99\n",
      " ---> c399664aee91\n",
      "Step 5/6 : RUN pip install -r requirements.txt\n",
      " ---> Running in 6629e43d4b19\n",
      "Requirement already satisfied: numpy in /opt/conda/lib/python3.7/site-packages (from -r requirements.txt (line 1)) (1.21.6)\n",
      "Requirement already satisfied: pandas in /opt/conda/lib/python3.7/site-packages (from -r requirements.txt (line 2)) (1.3.5)\n",
      "Requirement already satisfied: scikit-learn in /opt/conda/lib/python3.7/site-packages (from -r requirements.txt (line 3)) (1.0.2)\n",
      "Collecting google-cloud\n",
      "  Downloading google_cloud-0.34.0-py2.py3-none-any.whl (1.8 kB)\n",
      "Requirement already satisfied: python-dateutil>=2.7.3 in /opt/conda/lib/python3.7/site-packages (from pandas->-r requirements.txt (line 2)) (2.8.2)\n",
      "Requirement already satisfied: pytz>=2017.3 in /opt/conda/lib/python3.7/site-packages (from pandas->-r requirements.txt (line 2)) (2022.5)\n",
      "Requirement already satisfied: joblib>=0.11 in /opt/conda/lib/python3.7/site-packages (from scikit-learn->-r requirements.txt (line 3)) (1.2.0)\n",
      "Requirement already satisfied: scipy>=1.1.0 in /opt/conda/lib/python3.7/site-packages (from scikit-learn->-r requirements.txt (line 3)) (1.7.3)\n",
      "Requirement already satisfied: threadpoolctl>=2.0.0 in /opt/conda/lib/python3.7/site-packages (from scikit-learn->-r requirements.txt (line 3)) (3.1.0)\n",
      "Requirement already satisfied: six>=1.5 in /opt/conda/lib/python3.7/site-packages (from python-dateutil>=2.7.3->pandas->-r requirements.txt (line 2)) (1.16.0)\n",
      "Installing collected packages: google-cloud\n",
      "Successfully installed google-cloud-0.34.0\n",
      "\u001b[91mWARNING: Running pip as the 'root' user can result in broken permissions and conflicting behaviour with the system package manager. It is recommended to use a virtual environment instead: https://pip.pypa.io/warnings/venv\n",
      "\u001b[0mRemoving intermediate container 6629e43d4b19\n",
      " ---> c5a99624bc53\n",
      "Step 6/6 : CMD ['python','preprocessing.py']\n",
      " ---> Running in 403d2f5bc2c9\n",
      "Removing intermediate container 403d2f5bc2c9\n",
      " ---> b8801c54e53d\n",
      "Successfully built b8801c54e53d\n",
      "Successfully tagged gcr.io/insight-tool-321814/docker_test_insight/vertex_pipeline:latest\n"
     ]
    }
   ],
   "source": [
    "! docker build -f Dockerfile -t gcr.io/insight-tool-321814/docker_test_insight/vertex_pipeline ./"
   ]
  },
  {
   "cell_type": "code",
   "execution_count": 4,
   "id": "266074af-d204-4ba8-bda7-aebac3dad953",
   "metadata": {
    "tags": []
   },
   "outputs": [
    {
     "name": "stdout",
     "output_type": "stream",
     "text": [
      "Using default tag: latest\n",
      "The push refers to repository [gcr.io/insight-tool-321814/docker_test_insight/vertex_pipeline]\n",
      "\n",
      "\u001b[1B37b0b8ca: Preparing \n",
      "\u001b[1B0fb6391c: Preparing \n",
      "\u001b[1Be82ae299: Preparing \n",
      "\u001b[1Bc535f808: Preparing \n",
      "\u001b[1B8ee1b52d: Preparing \n",
      "\u001b[1B13676df8: Preparing \n",
      "\u001b[1Bd1719315: Preparing \n",
      "\u001b[1B04ce9981: Preparing \n",
      "\u001b[1Bee513cf4: Preparing \n",
      "\u001b[1B7850f48d: Preparing \n",
      "\u001b[1B7136f4ce: Preparing \n",
      "\u001b[1B6a05d5b9: Preparing \n",
      "\u001b[1B28d9d1c0: Preparing \n",
      "\u001b[1B1c364ced: Preparing \n",
      "\u001b[1Bfc1df3fb: Preparing \n",
      "\u001b[1B2edf4bb2: Preparing \n",
      "\u001b[1B8c107b08: Preparing \n",
      "\u001b[1B5712d612: Preparing \n",
      "\u001b[1B50bd6ed9: Preparing \n",
      "\u001b[1Bbf18a086: Preparing \n",
      "\u001b[1B156a4726: Preparing \n",
      "\u001b[3Bbf18a086: Preparing \n",
      "\u001b[1B36e2af4b: Preparing \n",
      "\u001b[1B8f7318f4: Preparing \n",
      "\u001b[24Bfb6391c: Pushed lready exists 2kB\u001b[24A\u001b[2K\u001b[18A\u001b[2K\u001b[16A\u001b[2K\u001b[13A\u001b[2K\u001b[9A\u001b[2K\u001b[6A\u001b[2K\u001b[2A\u001b[2K\u001b[25A\u001b[2Klatest: digest: sha256:7caf4f5a62dca09350c5b2024af35de72d0c490a1575541abf611088975e04f3 size: 5751\n"
     ]
    }
   ],
   "source": [
    "! docker push gcr.io/insight-tool-321814/docker_test_insight/vertex_pipeline"
   ]
  },
  {
   "cell_type": "code",
   "execution_count": 5,
   "id": "53055f8b-21c2-419a-8e90-cb61c16fceb2",
   "metadata": {},
   "outputs": [],
   "source": [
    "\n",
    "import pandas as pd"
   ]
  },
  {
   "cell_type": "code",
   "execution_count": 7,
   "id": "caf6a1c4-f550-443e-8330-32967e1ad333",
   "metadata": {},
   "outputs": [],
   "source": [
    "Bucket_uri = \"gs://lifesight-data-table/MLops\"\n",
    "data_path = Bucket_uri+\"/\"+\"data/house_data.csv\"\n",
    "data = pd.read_csv(data_path)\n"
   ]
  },
  {
   "cell_type": "code",
   "execution_count": 8,
   "id": "cb014281-99ce-4ef8-82f6-241b8a73e0c1",
   "metadata": {},
   "outputs": [],
   "source": [
    "data.to_csv(data_path,index=False)"
   ]
  },
  {
   "cell_type": "code",
   "execution_count": null,
   "id": "9f96a22f-15e5-432a-862d-4996df34547f",
   "metadata": {},
   "outputs": [],
   "source": []
  }
 ],
 "metadata": {
  "environment": {
   "kernel": "python3",
   "name": "common-cpu.m99",
   "type": "gcloud",
   "uri": "gcr.io/deeplearning-platform-release/base-cpu:m99"
  },
  "kernelspec": {
   "display_name": "Python 3",
   "language": "python",
   "name": "python3"
  },
  "language_info": {
   "codemirror_mode": {
    "name": "ipython",
    "version": 3
   },
   "file_extension": ".py",
   "mimetype": "text/x-python",
   "name": "python",
   "nbconvert_exporter": "python",
   "pygments_lexer": "ipython3",
   "version": "3.7.12"
  }
 },
 "nbformat": 4,
 "nbformat_minor": 5
}
