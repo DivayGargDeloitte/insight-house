{
 "cells": [
  {
   "cell_type": "code",
   "execution_count": 4,
   "id": "47fdd2bc-4a20-4abe-823c-6100edb46196",
   "metadata": {},
   "outputs": [
    {
     "name": "stdout",
     "output_type": "stream",
     "text": [
      "Cloning into 'insight-house'...\n",
      "remote: Enumerating objects: 83, done.\u001b[K\n",
      "remote: Counting objects: 100% (83/83), done.\u001b[K\n",
      "remote: Compressing objects: 100% (43/43), done.\u001b[K\n",
      "remote: Total 83 (delta 37), reused 83 (delta 37), pack-reused 0\u001b[K\n",
      "Unpacking objects: 100% (83/83), done.\n"
     ]
    }
   ],
   "source": [
    "! git clone https://github.com/DivayGargDeloitte/insight-house.git"
   ]
  },
  {
   "cell_type": "code",
   "execution_count": 2,
   "id": "0bc6ac32-29cd-487a-a388-18a553f1a0cb",
   "metadata": {},
   "outputs": [],
   "source": [
    "import shutil"
   ]
  },
  {
   "cell_type": "code",
   "execution_count": 3,
   "id": "ccc9a369-a786-4fd8-9adc-1a8bf854758d",
   "metadata": {},
   "outputs": [],
   "source": [
    "shutil.rmtree(\"insight-house\")"
   ]
  },
  {
   "cell_type": "code",
   "execution_count": null,
   "id": "f0ea980c-0700-45af-8d15-74d471d9a89a",
   "metadata": {},
   "outputs": [],
   "source": []
  }
 ],
 "metadata": {
  "environment": {
   "kernel": "python3",
   "name": "common-cpu.m99",
   "type": "gcloud",
   "uri": "gcr.io/deeplearning-platform-release/base-cpu:m99"
  },
  "kernelspec": {
   "display_name": "Python 3",
   "language": "python",
   "name": "python3"
  },
  "language_info": {
   "codemirror_mode": {
    "name": "ipython",
    "version": 3
   },
   "file_extension": ".py",
   "mimetype": "text/x-python",
   "name": "python",
   "nbconvert_exporter": "python",
   "pygments_lexer": "ipython3",
   "version": "3.7.12"
  }
 },
 "nbformat": 4,
 "nbformat_minor": 5
}
