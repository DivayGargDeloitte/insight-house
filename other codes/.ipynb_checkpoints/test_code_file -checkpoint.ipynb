{
 "cells": [
  {
   "cell_type": "code",
   "execution_count": 13,
   "id": "6a0330aa-702c-42f3-993e-66dd70d1c148",
   "metadata": {},
   "outputs": [],
   "source": [
    "##### for Creating docker file\n",
    "\n",
    "# Specifies base image and tag\n",
    "FROM image:tag\n",
    "WORKDIR /root\n",
    "\n",
    "# Installs additional packages\n",
    "RUN pip install pkg1 pkg2 pkg3\n",
    "\n",
    "# Downloads training data\n",
    "RUN curl https://example-url/path-to-data/data-filename --output /root/data-filename\n",
    "\n",
    "# Copies the trainer code to the docker image.\n",
    "COPY your-path-to/model.py /root/model.py\n",
    "COPY your-path-to/task.py /root/task.py\n",
    "\n",
    "# Sets up the entry point to invoke the trainer.\n",
    "ENTRYPOINT [\"python\", \"task.py\"]\n",
    "\n",
    "\n"
   ]
  },
  {
   "cell_type": "code",
   "execution_count": null,
   "id": "1046e5a6-2646-42f7-b2b7-2f081cb2d96d",
   "metadata": {},
   "outputs": [],
   "source": [
    "#### for building container, running container and pushing the container in registry\n",
    "\n",
    "export PROJECT_ID=$(gcloud config list project --format \"value(core.project)\")\n",
    "export REPO_NAME=REPOSITORY_NAME\n",
    "export IMAGE_NAME=IMAGE_NAME\n",
    "export IMAGE_TAG=IMAGE_TAG\n",
    "export IMAGE_URI=us-central1-docker.pkg.dev/${PROJECT_ID}/${REPO_NAME}/${IMAGE_NAME}:${IMAGE_TAG}\n",
    "\n",
    "docker build -f Dockerfile -t ${IMAGE_URI} ./\n",
    "\n",
    "docker run ${IMAGE_URI} --epochs 1\n",
    "\n",
    "docker push ${IMAGE_URI}"
   ]
  },
  {
   "cell_type": "code",
   "execution_count": null,
   "id": "c2a07390-0da5-4f5f-a556-db26839aa388",
   "metadata": {},
   "outputs": [],
   "source": [
    "PROJECT_ID=\"insight-tool-321814\"\n",
    "REPO_NAME=\"docker_test_insight\"\n",
    "IMAGE_NAME=\"house_test\"\n",
    "IMAGE_TAG=\"v1\"\n",
    "IMAGE_URI=\"us-central1-docker.pkg.dev/insight-tool-321814/docker_test_insight/house_test:v1\""
   ]
  },
  {
   "cell_type": "code",
   "execution_count": 11,
   "id": "a82965df-75c4-4182-b678-3cf3b97b772a",
   "metadata": {},
   "outputs": [
    {
     "name": "stdout",
     "output_type": "stream",
     "text": [
      "Sending build context to Docker daemon  27.14kB\n",
      "Step 1/6 : FROM gcr.io/deeplearning-platform-release/base-cpu\n",
      " ---> 3370ebb8313d\n",
      "Step 2/6 : COPY requirements.txt /app/requirements.txt\n",
      " ---> Using cache\n",
      " ---> 2b49316a0785\n",
      "Step 3/6 : COPY preprocessing.py /app/preprocessing.py\n",
      " ---> Using cache\n",
      " ---> 9ada7fa54712\n",
      "Step 4/6 : WORKDIR /app\n",
      " ---> Using cache\n",
      " ---> 7da40f919b6b\n",
      "Step 5/6 : RUN pip install -r requirements.txt\n",
      " ---> Using cache\n",
      " ---> ba54655559b5\n",
      "Step 6/6 : CMD [\"python\", \"preprocessing.py\"]\n",
      " ---> Using cache\n",
      " ---> e3dba661c5a8\n",
      "Successfully built e3dba661c5a8\n",
      "Successfully tagged us-central1-docker.pkg.dev/insight-tool-321814/docker_test_insight/house_test:v1\n"
     ]
    }
   ],
   "source": [
    "! docker build -f Dockerfile -t us-central1-docker.pkg.dev/insight-tool-321814/docker_test_insight/house_test:v1 ./"
   ]
  },
  {
   "cell_type": "code",
   "execution_count": 17,
   "id": "59b9dca3-cfe3-4046-a9f5-ccb3313f4067",
   "metadata": {},
   "outputs": [],
   "source": [
    "! docker run us-central1-docker.pkg.dev/insight-tool-321814/docker_test_insight/house_test:v1"
   ]
  },
  {
   "cell_type": "code",
   "execution_count": 12,
   "id": "e50eaa18-d798-4ae6-93b5-7fc65fc8ba67",
   "metadata": {},
   "outputs": [
    {
     "name": "stdout",
     "output_type": "stream",
     "text": [
      "The push refers to repository [us-central1-docker.pkg.dev/insight-tool-321814/docker_test_insight/house_test]\n",
      "\n",
      "\u001b[1Bfd894022: Preparing \n",
      "\u001b[1Bdadaab5f: Preparing \n",
      "\u001b[1B9e6e200a: Preparing \n",
      "\u001b[1Bc535f808: Preparing \n",
      "\u001b[1B8ee1b52d: Preparing \n",
      "\u001b[1B13676df8: Preparing \n",
      "\u001b[1Bd1719315: Preparing \n",
      "\u001b[1B04ce9981: Preparing \n",
      "\u001b[1Bee513cf4: Preparing \n",
      "\u001b[1B7850f48d: Preparing \n",
      "\u001b[1B7136f4ce: Preparing \n",
      "\u001b[1B6a05d5b9: Preparing \n",
      "\u001b[1B28d9d1c0: Preparing \n",
      "\u001b[1B1c364ced: Preparing \n",
      "\u001b[1Bfc1df3fb: Preparing \n",
      "\u001b[1B2edf4bb2: Preparing \n",
      "\u001b[1B8c107b08: Preparing \n",
      "\u001b[1B5712d612: Preparing \n",
      "\u001b[1B50bd6ed9: Preparing \n",
      "\u001b[1Bbf18a086: Preparing \n",
      "\u001b[1B156a4726: Preparing \n",
      "\u001b[3Bbf18a086: Preparing \n",
      "\u001b[1B36e2af4b: Preparing \n",
      "\u001b[1B8f7318f4: Preparing \n",
      "\u001b[1B2d5b2da2: Waiting g denied: Permission \"artifactregistry.repositories.uploadArtifacts\" denied on resource \"projects/insight-tool-321814/locations/us-central1/repositories/docker_test_insight\" (or it may not exist)\n"
     ]
    }
   ],
   "source": [
    "! docker push us-central1-docker.pkg.dev/insight-tool-321814/docker_test_insight/house_test:v1"
   ]
  },
  {
   "cell_type": "code",
   "execution_count": 8,
   "id": "c1cc14bb-45c4-4fb8-950d-9dbb07f5f70d",
   "metadata": {},
   "outputs": [
    {
     "name": "stdout",
     "output_type": "stream",
     "text": [
      "Sending build context to Docker daemon  22.02kB\n",
      "Step 1/6 : FROM gcr.io/deeplearning-platform-release/base-cpu\n",
      " ---> 3370ebb8313d\n",
      "Step 2/6 : COPY requirements.txt /app/requirements.txt\n",
      " ---> Using cache\n",
      " ---> 2b49316a0785\n",
      "Step 3/6 : COPY preprocessing.py /app/preprocessing.py\n",
      " ---> Using cache\n",
      " ---> 9ada7fa54712\n",
      "Step 4/6 : WORKDIR /app\n",
      " ---> Using cache\n",
      " ---> 7da40f919b6b\n",
      "Step 5/6 : RUN pip install -r requirements.txt\n",
      " ---> Using cache\n",
      " ---> ba54655559b5\n",
      "Step 6/6 : CMD [\"python\", \"preprocessing.py\"]\n",
      " ---> Using cache\n",
      " ---> e3dba661c5a8\n",
      "Successfully built e3dba661c5a8\n",
      "Successfully tagged gcr.io/insight-tool-321814/docker_test_insight/house_test:v1\n"
     ]
    }
   ],
   "source": [
    "! docker build -f Dockerfile -t gcr.io/insight-tool-321814/docker_test_insight/house_test:v1 ./"
   ]
  },
  {
   "cell_type": "code",
   "execution_count": 9,
   "id": "ebb23cb7-aad2-4d3d-b79e-9cfeeb7e0b7c",
   "metadata": {},
   "outputs": [],
   "source": [
    "! docker run gcr.io/insight-tool-321814/docker_test_insight/house_test:v1"
   ]
  },
  {
   "cell_type": "code",
   "execution_count": 10,
   "id": "4eb7db85-b80e-4103-879f-afed1f349038",
   "metadata": {},
   "outputs": [
    {
     "name": "stdout",
     "output_type": "stream",
     "text": [
      "The push refers to repository [gcr.io/insight-tool-321814/docker_test_insight/house_test]\n",
      "\n",
      "\u001b[1Bfd894022: Preparing \n",
      "\u001b[1Bdadaab5f: Preparing \n",
      "\u001b[1B9e6e200a: Preparing \n",
      "\u001b[1Bc535f808: Preparing \n",
      "\u001b[1B8ee1b52d: Preparing \n",
      "\u001b[1B13676df8: Preparing \n",
      "\u001b[1Bd1719315: Preparing \n",
      "\u001b[1B04ce9981: Preparing \n",
      "\u001b[1Bee513cf4: Preparing \n",
      "\u001b[1B7850f48d: Preparing \n",
      "\u001b[1B7136f4ce: Preparing \n",
      "\u001b[1B6a05d5b9: Preparing \n",
      "\u001b[1B28d9d1c0: Preparing \n",
      "\u001b[1B1c364ced: Preparing \n",
      "\u001b[1Bfc1df3fb: Preparing \n",
      "\u001b[1B2edf4bb2: Preparing \n",
      "\u001b[1B8c107b08: Preparing \n",
      "\u001b[1B5712d612: Preparing \n",
      "\u001b[1B50bd6ed9: Preparing \n",
      "\u001b[1Bbf18a086: Preparing \n",
      "\u001b[1B156a4726: Preparing \n",
      "\u001b[3Bbf18a086: Preparing \n",
      "\u001b[1B36e2af4b: Preparing \n",
      "\u001b[13Ba05d5b9: Waiting g \n",
      "\u001b[2B8f7318f4: Mounted from deeplearning-platform-release/base-cpu \u001b[21A\u001b[2K\u001b[20A\u001b[2K\u001b[19A\u001b[2K\u001b[24A\u001b[2K\u001b[17A\u001b[2K\u001b[15A\u001b[2K\u001b[14A\u001b[2K\u001b[11A\u001b[2K\u001b[6A\u001b[2K\u001b[9A\u001b[2K\u001b[8A\u001b[2K\u001b[3A\u001b[2K\u001b[5A\u001b[2K\u001b[1A\u001b[2K\u001b[2A\u001b[2Kv1: digest: sha256:1b259191fd3efcabb96b7cba162a3961d7437a9c4f18bdc5e5c10229de3aaade size: 5750\n"
     ]
    }
   ],
   "source": [
    "! docker push gcr.io/insight-tool-321814/docker_test_insight/house_test:v1"
   ]
  },
  {
   "cell_type": "code",
   "execution_count": 2,
   "id": "4e772132-290e-41dc-87f5-ec00f90db02b",
   "metadata": {},
   "outputs": [
    {
     "name": "stdout",
     "output_type": "stream",
     "text": [
      "v1: Pulling from insight-tool-321814/docker_test_insight/house_test\n",
      "Digest: sha256:1b259191fd3efcabb96b7cba162a3961d7437a9c4f18bdc5e5c10229de3aaade\n",
      "Status: Image is up to date for gcr.io/insight-tool-321814/docker_test_insight/house_test:v1\n",
      "gcr.io/insight-tool-321814/docker_test_insight/house_test:v1\n"
     ]
    }
   ],
   "source": [
    "! docker pull gcr.io/insight-tool-321814/docker_test_insight/house_test:v1"
   ]
  },
  {
   "cell_type": "code",
   "execution_count": 4,
   "id": "89e3325d-d68e-4a6e-ba0e-c6fb3445ff90",
   "metadata": {},
   "outputs": [],
   "source": [
    "! docker run gcr.io/insight-tool-321814/docker_test_insight/house_test:v1"
   ]
  },
  {
   "cell_type": "code",
   "execution_count": null,
   "id": "f3db047a-a01a-4c33-af0f-7d1d0cc91e1c",
   "metadata": {},
   "outputs": [],
   "source": []
  }
 ],
 "metadata": {
  "environment": {
   "kernel": "python3",
   "name": "common-cpu.m99",
   "type": "gcloud",
   "uri": "gcr.io/deeplearning-platform-release/base-cpu:m99"
  },
  "kernelspec": {
   "display_name": "Python 3",
   "language": "python",
   "name": "python3"
  },
  "language_info": {
   "codemirror_mode": {
    "name": "ipython",
    "version": 3
   },
   "file_extension": ".py",
   "mimetype": "text/x-python",
   "name": "python",
   "nbconvert_exporter": "python",
   "pygments_lexer": "ipython3",
   "version": "3.7.12"
  }
 },
 "nbformat": 4,
 "nbformat_minor": 5
}
