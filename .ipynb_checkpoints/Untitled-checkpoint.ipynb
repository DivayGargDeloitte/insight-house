{
 "cells": [
  {
   "cell_type": "code",
   "execution_count": 1,
   "id": "53c5cdd4-cfa3-4067-805f-d11f34f7a08d",
   "metadata": {},
   "outputs": [
    {
     "name": "stdout",
     "output_type": "stream",
     "text": [
      "\u001b[1;31mERROR:\u001b[0m (gcloud.source.repos.create) ResponseError: status=[PERMISSION_DENIED], code=[403], message=[User [554650739751-compute@developer.gserviceaccount.com] does not have permission to access projects instance [insight-tool-321814] (or it may not exist): The caller does not have permission]. \n"
     ]
    }
   ],
   "source": [
    "! gcloud source repos create house-insight"
   ]
  },
  {
   "cell_type": "code",
   "execution_count": 3,
   "id": "aa709831-a7cd-4c33-a5d3-2450d8ad623f",
   "metadata": {},
   "outputs": [
    {
     "name": "stdout",
     "output_type": "stream",
     "text": [
      "Reinitialized existing Git repository in /home/jupyter/.git/\n"
     ]
    }
   ],
   "source": [
    "! git init"
   ]
  },
  {
   "cell_type": "code",
   "execution_count": 5,
   "id": "2d17f308-7b50-43c7-a13e-2c0553c169c3",
   "metadata": {},
   "outputs": [
    {
     "name": "stdout",
     "output_type": "stream",
     "text": [
      "On branch master\n",
      "\n",
      "Initial commit\n",
      "\n",
      "Untracked files:\n",
      "\t\u001b[31m.bash_history\u001b[m\n",
      "\t\u001b[31m.cache/\u001b[m\n",
      "\t\u001b[31m.config/\u001b[m\n",
      "\t\u001b[31m.docker/\u001b[m\n",
      "\t\u001b[31m.gitconfig\u001b[m\n",
      "\t\u001b[31m.ipynb_checkpoints/\u001b[m\n",
      "\t\u001b[31m.ipython/\u001b[m\n",
      "\t\u001b[31m.jupyter/\u001b[m\n",
      "\t\u001b[31m.local/\u001b[m\n",
      "\t\u001b[31m.python_history\u001b[m\n",
      "\t\u001b[31mInsight-house repo/\u001b[m\n",
      "\t\u001b[31mUntitled.ipynb\u001b[m\n",
      "\t\u001b[31mother codes/\u001b[m\n",
      "\t\u001b[31msrc/\u001b[m\n",
      "\t\u001b[31mtutorials/\u001b[m\n",
      "\n",
      "nothing added to commit but untracked files present\n"
     ]
    }
   ],
   "source": [
    "! git config --global user.email \"divaygarg@deloitte.com\"\n",
    "! git config --global user.name \"DivayGargDeloitte\"\n",
    "! git commit -m \"first commit\""
   ]
  },
  {
   "cell_type": "code",
   "execution_count": null,
   "id": "b669f775-71f5-4e53-b40b-f312b9862aa7",
   "metadata": {},
   "outputs": [],
   "source": [
    "! git add README.md\n",
    "! git commit -m \"first commit\"\n",
    "! git branch -M main\n",
    "! git remote add origin https://github.com/DivayGargDeloitte/insight-house_new.git\n",
    "! git push -u origin main"
   ]
  },
  {
   "cell_type": "code",
   "execution_count": 1,
   "id": "2d3faf0f-6aed-4d33-bbab-6c4d04da0555",
   "metadata": {},
   "outputs": [
    {
     "name": "stdout",
     "output_type": "stream",
     "text": [
      "fatal: remote origin already exists.\n"
     ]
    }
   ],
   "source": [
    "! git remote add origin https://github.com/DivayGargDeloitte/insight-house-v3.git"
   ]
  },
  {
   "cell_type": "code",
   "execution_count": 9,
   "id": "948cc6cc-c966-43da-acb6-9f4977604d59",
   "metadata": {},
   "outputs": [
    {
     "name": "stdout",
     "output_type": "stream",
     "text": [
      "error: refname refs/heads/master not found\n",
      "fatal: Branch rename failed\n"
     ]
    }
   ],
   "source": [
    "! git branch -M main"
   ]
  },
  {
   "cell_type": "code",
   "execution_count": null,
   "id": "12e3c8a6-256a-4f12-a974-5465beec54f5",
   "metadata": {},
   "outputs": [],
   "source": []
  }
 ],
 "metadata": {
  "environment": {
   "kernel": "python3",
   "name": "common-cpu.m99",
   "type": "gcloud",
   "uri": "gcr.io/deeplearning-platform-release/base-cpu:m99"
  },
  "kernelspec": {
   "display_name": "Python 3",
   "language": "python",
   "name": "python3"
  },
  "language_info": {
   "codemirror_mode": {
    "name": "ipython",
    "version": 3
   },
   "file_extension": ".py",
   "mimetype": "text/x-python",
   "name": "python",
   "nbconvert_exporter": "python",
   "pygments_lexer": "ipython3",
   "version": "3.7.12"
  }
 },
 "nbformat": 4,
 "nbformat_minor": 5
}
