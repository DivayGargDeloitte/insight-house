{
 "cells": [
  {
   "cell_type": "code",
   "execution_count": 2,
   "id": "d143c82c-d86f-4c4a-b9ae-cb5a238c9f08",
   "metadata": {},
   "outputs": [
    {
     "name": "stdout",
     "output_type": "stream",
     "text": [
      "Welcome! This command will take you through the configuration of gcloud.\n",
      "\n",
      "Your current configuration has been set to: [default]\n",
      "\n",
      "You can skip diagnostics next time by using the following flag:\n",
      "  gcloud init --skip-diagnostics\n",
      "\n",
      "Network diagnostic detects and fixes local network connection issues.\n",
      "Checking network connection...done.                                            \n",
      "Reachability Check passed.\n",
      "Network diagnostic passed (1/1 checks passed).\n",
      "\n",
      "Choose the account you would like to use to perform operations for this \n",
      "configuration:\n",
      " [1] 554650739751-compute@developer.gserviceaccount.com\n",
      " [2] Log in with a new account\n",
      "Please enter your numeric choice:  ^C\n",
      "\n",
      "\n",
      "Command killed by keyboard interrupt\n",
      "\n"
     ]
    }
   ],
   "source": [
    "! gcloud init"
   ]
  },
  {
   "cell_type": "code",
   "execution_count": null,
   "id": "1866d8d8-9562-40ee-b273-2f35a53f5393",
   "metadata": {},
   "outputs": [
    {
     "name": "stdout",
     "output_type": "stream",
     "text": [
      "Welcome! This command will take you through the configuration of gcloud.\n",
      "\n",
      "Settings from your current configuration [default] are:\n",
      "core:\n",
      "  account: 554650739751-compute@developer.gserviceaccount.com\n",
      "  disable_usage_reporting: 'True'\n",
      "  project: insight-tool-321814\n",
      "\n",
      "Pick configuration to use:\n",
      " [1] Re-initialize this configuration [default] with new settings \n",
      " [2] Create a new configuration\n",
      "Please enter your numeric choice:  "
     ]
    }
   ],
   "source": [
    "! gcloud init && git config --global credential.https://source.developers.google.com.helper gcloud.sh"
   ]
  },
  {
   "cell_type": "code",
   "execution_count": 7,
   "id": "1361952f-9a66-4093-881a-d8bea385b09d",
   "metadata": {},
   "outputs": [
    {
     "ename": "FileNotFoundError",
     "evalue": "[Errno 2] No such file or directory: 'Insight-house_repo'",
     "output_type": "error",
     "traceback": [
      "\u001b[0;31m---------------------------------------------------------------------------\u001b[0m",
      "\u001b[0;31mFileNotFoundError\u001b[0m                         Traceback (most recent call last)",
      "\u001b[0;32m/tmp/ipykernel_3543/2602743670.py\u001b[0m in \u001b[0;36m<module>\u001b[0;34m\u001b[0m\n\u001b[1;32m      1\u001b[0m \u001b[0;32mimport\u001b[0m \u001b[0mos\u001b[0m\u001b[0;34m\u001b[0m\u001b[0;34m\u001b[0m\u001b[0m\n\u001b[0;32m----> 2\u001b[0;31m \u001b[0mos\u001b[0m\u001b[0;34m.\u001b[0m\u001b[0mchdir\u001b[0m\u001b[0;34m(\u001b[0m\u001b[0;34m\"Insight-house_repo\"\u001b[0m\u001b[0;34m)\u001b[0m\u001b[0;34m\u001b[0m\u001b[0;34m\u001b[0m\u001b[0m\n\u001b[0m",
      "\u001b[0;31mFileNotFoundError\u001b[0m: [Errno 2] No such file or directory: 'Insight-house_repo'"
     ]
    }
   ],
   "source": [
    "import os\n",
    "os.chdir(\"Insight-house_repo\")"
   ]
  },
  {
   "cell_type": "code",
   "execution_count": 2,
   "id": "7b0860bc-880a-460e-9456-afbb823adcc5",
   "metadata": {},
   "outputs": [
    {
     "data": {
      "text/plain": [
       "'/home/jupyter/Insight-house_repo'"
      ]
     },
     "execution_count": 2,
     "metadata": {},
     "output_type": "execute_result"
    }
   ],
   "source": [
    "os.getcwd()"
   ]
  },
  {
   "cell_type": "code",
   "execution_count": 5,
   "id": "c36f6f41-d1cc-4575-a73f-841127f6eae1",
   "metadata": {},
   "outputs": [
    {
     "name": "stdout",
     "output_type": "stream",
     "text": [
      "[main 4c157b1] 2nd commit\n",
      " 2 files changed, 8 insertions(+), 8 deletions(-)\n",
      "Enumerating objects: 7, done.\n",
      "Counting objects: 100% (7/7), done.\n",
      "Delta compression using up to 4 threads\n",
      "Compressing objects: 100% (4/4), done.\n",
      "Writing objects: 100% (4/4), 401 bytes | 401.00 KiB/s, done.\n",
      "Total 4 (delta 3), reused 0 (delta 0)\n",
      "remote: Resolving deltas: 100% (3/3)\u001b[K\u001b[K\n",
      "To https://source.developers.google.com/p/insight-tool-321814/r/House-mlops\n",
      "   96d14d1..4c157b1  main -> main\n",
      "Branch 'main' set up to track remote branch 'main' from 'google'.\n"
     ]
    }
   ],
   "source": [
    "! git add .\n",
    "! git commit -m \"2nd commit\"\n",
    "! git remote rm google\n",
    "! git remote add google https://source.developers.google.com/p/insight-tool-321814/r/House-mlops\n",
    "! git branch -M main\n",
    "! git push -u google main"
   ]
  },
  {
   "cell_type": "code",
   "execution_count": 6,
   "id": "1f18f2c0-4357-48e0-bdbf-3cb0b0b91ae7",
   "metadata": {},
   "outputs": [
    {
     "name": "stdout",
     "output_type": "stream",
     "text": [
      "NAME\n",
      "gcr.io/insight-tool-321814/docker_test_insight/house_test\n",
      "gcr.io/insight-tool-321814/docker_test_insight/prediction\n",
      "gcr.io/insight-tool-321814/docker_test_insight/prediction_cloudbuild_test_2\n",
      "gcr.io/insight-tool-321814/docker_test_insight/prediction_cloudbuild_test_4\n",
      "gcr.io/insight-tool-321814/docker_test_insight/preprocessing\n",
      "gcr.io/insight-tool-321814/docker_test_insight/preprocessing_cloudbuild_test\n",
      "gcr.io/insight-tool-321814/docker_test_insight/preprocessing_cloudbuild_test_2\n",
      "gcr.io/insight-tool-321814/docker_test_insight/preprocessing_cloudbuild_test_4\n",
      "gcr.io/insight-tool-321814/docker_test_insight/training\n",
      "gcr.io/insight-tool-321814/docker_test_insight/training_cloudbuild_test\n",
      "gcr.io/insight-tool-321814/docker_test_insight/training_cloudbuild_test_2\n",
      "gcr.io/insight-tool-321814/docker_test_insight/training_cloudbuild_test_4\n"
     ]
    }
   ],
   "source": [
    "! gcloud container images list --repository=gcr.io/insight-tool-321814/docker_test_insight"
   ]
  },
  {
   "cell_type": "code",
   "execution_count": null,
   "id": "6d6a6fb8-91e2-459f-9121-365e400e1331",
   "metadata": {},
   "outputs": [],
   "source": []
  }
 ],
 "metadata": {
  "environment": {
   "kernel": "python3",
   "name": "common-cpu.m99",
   "type": "gcloud",
   "uri": "gcr.io/deeplearning-platform-release/base-cpu:m99"
  },
  "kernelspec": {
   "display_name": "Python 3",
   "language": "python",
   "name": "python3"
  },
  "language_info": {
   "codemirror_mode": {
    "name": "ipython",
    "version": 3
   },
   "file_extension": ".py",
   "mimetype": "text/x-python",
   "name": "python",
   "nbconvert_exporter": "python",
   "pygments_lexer": "ipython3",
   "version": "3.7.12"
  }
 },
 "nbformat": 4,
 "nbformat_minor": 5
}
